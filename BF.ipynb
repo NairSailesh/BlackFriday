{
  "cells": [
    {
      "cell_type": "code",
      "metadata": {
        "id": "qxieb1WVMlpR",
        "colab_type": "code",
        "colab": {
          "base_uri": "https://localhost:8080/",
          "height": 71
        },
        "outputId": "e5f357ae-63d9-486e-e030-5bc696dc1b37"
      },
      "source": [
        "#Load Libraries\n",
        "import pandas as pd\n",
        "import numpy as np\n",
        "import matplotlib.pyplot as plt\n",
        "%matplotlib inline\n",
        "import seaborn as sns\n",
        "from sklearn.preprocessing import StandardScaler\n",
        "from sklearn.model_selection import train_test_split\n",
        "from sklearn.model_selection import KFold\n",
        "from sklearn.model_selection import cross_val_score\n",
        "from sklearn.model_selection import GridSearchCV\n",
        "from sklearn.linear_model import LinearRegression\n",
        "from sklearn.linear_model import Lasso\n",
        "from sklearn.linear_model import ElasticNet\n",
        "from sklearn.tree import DecisionTreeRegressor\n",
        "from sklearn.neighbors import KNeighborsRegressor\n",
        "from sklearn.svm import SVR\n",
        "from sklearn.pipeline import Pipeline\n",
        "from sklearn.ensemble import RandomForestRegressor\n",
        "from sklearn.ensemble import GradientBoostingRegressor\n",
        "from sklearn.ensemble import ExtraTreesRegressor\n",
        "from sklearn.ensemble import AdaBoostRegressor\n",
        "from sklearn.metrics import mean_squared_error\n",
        "\n",
        "# Load Data\n",
        "data=pd.read_csv(\"train.csv\")\n"
      ],
      "execution_count": null,
      "outputs": []
    },
    {
      "cell_type": "code",
      "metadata": {
        "id": "e0q_8DdMMlqb",
        "colab_type": "code",
        "outputId": "edc1d55d-ebbb-4f33-9f93-96d7f882b108",
        "colab": {
          "base_uri": "https://localhost:8080/",
          "height": 340
        }
      },
      "source": [
        "data.info()"
      ],
      "execution_count": null,
      "outputs": []
    },
    {
      "cell_type": "code",
      "metadata": {
        "id": "EqQ4ZGq-MlrN",
        "colab_type": "code",
        "outputId": "5345ea4b-cfae-47e4-e8de-06971b4d61ec",
        "colab": {
          "base_uri": "https://localhost:8080/",
          "height": 297
        }
      },
      "source": [
        "data.describe()"
      ],
      "execution_count": null,
      "outputs": []
    },
    {
      "cell_type": "code",
      "metadata": {
        "id": "kVH6KhJxMlr1",
        "colab_type": "code",
        "outputId": "235f70e6-0187-4962-f054-170ec8f1bc7c",
        "colab": {
          "base_uri": "https://localhost:8080/",
          "height": 34
        }
      },
      "source": [
        "data.shape"
      ],
      "execution_count": null,
      "outputs": []
    },
    {
      "cell_type": "code",
      "metadata": {
        "id": "tUui-MQgMlso",
        "colab_type": "code",
        "outputId": "eeb91e4a-f497-4061-8c6e-88ae20ece144",
        "colab": {
          "base_uri": "https://localhost:8080/",
          "height": 532
        }
      },
      "source": [
        "data.head(10)"
      ],
      "execution_count": null,
      "outputs": []
    },
    {
      "cell_type": "code",
      "metadata": {
        "id": "vBiQkPCiMltW",
        "colab_type": "code",
        "outputId": "dcb85c77-43b0-430d-d1a2-c9cf4327fae0",
        "colab": {
          "base_uri": "https://localhost:8080/",
          "height": 238
        }
      },
      "source": [
        "data.dtypes"
      ],
      "execution_count": null,
      "outputs": []
    },
    {
      "cell_type": "code",
      "metadata": {
        "id": "zKs8qNZ4Mlt0",
        "colab_type": "code",
        "outputId": "1b469453-c2e9-41a4-87b9-ecb890457c95",
        "colab": {
          "base_uri": "https://localhost:8080/",
          "height": 34
        }
      },
      "source": [
        "data['User_ID'].nunique()"
      ],
      "execution_count": null,
      "outputs": []
    },
    {
      "cell_type": "code",
      "metadata": {
        "id": "VTldGAZ9MluZ",
        "colab_type": "code",
        "outputId": "ab3a8505-6875-45de-d339-0e4a812c7d11",
        "colab": {
          "base_uri": "https://localhost:8080/",
          "height": 34
        }
      },
      "source": [
        "data['Product_ID'].nunique()"
      ],
      "execution_count": null,
      "outputs": []
    },
    {
      "cell_type": "code",
      "metadata": {
        "id": "hKvRQme7Mlu3",
        "colab_type": "code",
        "outputId": "23fda3ea-2ef0-4287-f48b-ab3d79e1431b",
        "colab": {
          "base_uri": "https://localhost:8080/",
          "height": 296
        }
      },
      "source": [
        "#%% Data visualizations\n",
        "\n",
        "sns.countplot(data['Gender'])"
      ],
      "execution_count": null,
      "outputs": []
    },
    {
      "cell_type": "code",
      "metadata": {
        "id": "UTj4doSjMlvZ",
        "colab_type": "code",
        "outputId": "a4a48d4b-1c20-49c1-b586-2017e7cbb667",
        "colab": {
          "base_uri": "https://localhost:8080/",
          "height": 296
        }
      },
      "source": [
        "sns.countplot(data['Age'], hue=data['Gender'])\n",
        "# histograms\n"
      ],
      "execution_count": null,
      "outputs": []
    },
    {
      "cell_type": "code",
      "metadata": {
        "id": "7KfouFYxMlv5",
        "colab_type": "code",
        "outputId": "996d3650-996c-4876-920f-da6817ca31ef",
        "colab": {
          "base_uri": "https://localhost:8080/",
          "height": 311
        }
      },
      "source": [
        "plt.figure(figsize=(15,10))\n",
        "data.hist()\n",
        "plt.show()"
      ],
      "execution_count": null,
      "outputs": []
    },
    {
      "cell_type": "code",
      "metadata": {
        "id": "2WIsOnmRMlwa",
        "colab_type": "code",
        "outputId": "731a3958-a16f-41a4-e8e8-36266220d364",
        "colab": {
          "base_uri": "https://localhost:8080/",
          "height": 391
        }
      },
      "source": [
        "data['Occupation'].value_counts()"
      ],
      "execution_count": null,
      "outputs": []
    },
    {
      "cell_type": "code",
      "metadata": {
        "id": "JOLlou-_Mlw-",
        "colab_type": "code",
        "outputId": "a0f602ad-9aa5-4aa5-8da7-daab71597a0e",
        "colab": {
          "base_uri": "https://localhost:8080/",
          "height": 310
        }
      },
      "source": [
        "var = data.groupby(['Occupation','Gender']).Purchase.sum()\n",
        "var.unstack().plot(kind='bar',stacked=True,color=['red','blue'])"
      ],
      "execution_count": null,
      "outputs": []
    },
    {
      "cell_type": "code",
      "metadata": {
        "id": "VCAyLCj7Mlxp",
        "colab_type": "code",
        "outputId": "9fba985c-528d-41c7-f176-d26f5c7886d6",
        "colab": {
          "base_uri": "https://localhost:8080/",
          "height": 326
        }
      },
      "source": [
        "var = data.groupby(['Age','Gender']).Purchase.sum()\n",
        "var.unstack().plot(kind='bar',stacked=True,color=['red','blue'])"
      ],
      "execution_count": null,
      "outputs": []
    },
    {
      "cell_type": "code",
      "metadata": {
        "id": "b3QZMP2-MlyM",
        "colab_type": "code",
        "outputId": "8a0acbc5-e9d0-4193-d8bb-51c701c3269e",
        "colab": {
          "base_uri": "https://localhost:8080/",
          "height": 348
        }
      },
      "source": [
        "var = data.groupby(['City_Category','Age','Gender']).Purchase.sum()\n",
        "var.unstack().plot(kind='bar',stacked=True,color=['red','blue'])"
      ],
      "execution_count": null,
      "outputs": []
    },
    {
      "cell_type": "code",
      "metadata": {
        "id": "eSj6hg3OMlyi",
        "colab_type": "code",
        "outputId": "f25e9d24-8e8a-4b99-be20-3921feea04b8",
        "colab": {
          "base_uri": "https://localhost:8080/",
          "height": 264
        }
      },
      "source": [
        "var = data.groupby(['City_Category']).sum().stack()\n",
        "temp=var.unstack()\n",
        "type(temp)\n",
        "x_list=temp['Purchase']\n",
        "label_list=temp.index\n",
        "plt.axis(\"equal\")\n",
        "\n",
        "plt.pie(x_list,labels=label_list,autopct=\"%1.1f%%\")\n",
        "plt.title(\"Citywise Purchase\")\n",
        "plt.show()"
      ],
      "execution_count": null,
      "outputs": []
    },
    {
      "cell_type": "code",
      "metadata": {
        "id": "iTPyS18-O6b8",
        "colab_type": "code",
        "outputId": "8213ea5f-88c3-4370-8b4e-f1f004c51e2b",
        "colab": {
          "base_uri": "https://localhost:8080/",
          "height": 361
        }
      },
      "source": [
        "var = data.groupby(['Product_Category_1','Product_Category_2']).Purchase.sum()\n",
        "var.unstack().plot(kind='bar',stacked=True)"
      ],
      "execution_count": null,
      "outputs": []
    },
    {
      "cell_type": "code",
      "metadata": {
        "id": "APGmJcRWMly4",
        "colab_type": "code",
        "outputId": "54c3d30b-7dc5-4985-a9ae-fc2128987638",
        "colab": {
          "base_uri": "https://localhost:8080/",
          "height": 376
        }
      },
      "source": [
        "sns.heatmap(data.corr())"
      ],
      "execution_count": null,
      "outputs": []
    },
    {
      "cell_type": "code",
      "metadata": {
        "id": "Rw6Mud6GMlzb",
        "colab_type": "code",
        "outputId": "3a0e8447-6e21-40d1-bef8-42f421877108",
        "colab": {
          "base_uri": "https://localhost:8080/",
          "height": 241
        }
      },
      "source": [
        "df=pd.get_dummies(data,columns=['Occupation','City_Category','Age','Stay_In_Current_City_Years','Gender'], drop_first=True)\n",
        "df.head(5)"
      ],
      "execution_count": null,
      "outputs": []
    },
    {
      "cell_type": "code",
      "metadata": {
        "id": "7EsB3Z18P8Ci",
        "colab_type": "code",
        "outputId": "cf22c83a-f706-4c41-b186-ce97e1cf0002",
        "colab": {
          "base_uri": "https://localhost:8080/",
          "height": 241
        }
      },
      "source": [
        "df=df.drop(['User_ID','Product_ID'], axis = 1 )\n",
        "df = df.fillna(0)\n",
        "df=df.astype(int)\n",
        "df.head(5) # now all values except purchase and product categories are in range 0 - 1"
      ],
      "execution_count": null,
      "outputs": []
    },
    {
      "cell_type": "code",
      "metadata": {
        "id": "1FRodvSyMl0h",
        "colab_type": "code",
        "outputId": "fcecc670-3f88-481b-d8f2-53b882fe1f58",
        "colab": {
          "base_uri": "https://localhost:8080/",
          "height": 757
        }
      },
      "source": [
        "plt.figure(figsize=(15,10))\n",
        "sns.heatmap(df.corr())"
      ],
      "execution_count": null,
      "outputs": []
    },
    {
      "cell_type": "code",
      "metadata": {
        "id": "rvM6OiUhlG2S",
        "colab_type": "code",
        "outputId": "6f1feef3-7995-4555-cc2e-e1f21e976814",
        "colab": {
          "base_uri": "https://localhost:8080/",
          "height": 590
        }
      },
      "source": [
        "plt.figure(figsize=(10,7))\n",
        "sns.heatmap(df.isnull(),yticklabels=False,cbar=False,cmap='viridis')"
      ],
      "execution_count": null,
      "outputs": []
    },
    {
      "cell_type": "code",
      "metadata": {
        "id": "_d96uWDWMl3a",
        "colab_type": "code",
        "colab": {
          "base_uri": "https://localhost:8080/",
          "height": 680
        },
        "outputId": "6d900fa1-f9b9-43f3-ecb5-5c8fd3a84b07"
      },
      "source": [
        "df.dtypes"
      ],
      "execution_count": null,
      "outputs": []
    },
    {
      "cell_type": "code",
      "metadata": {
        "id": "f50mzhDLIDRW",
        "colab_type": "code",
        "colab": {}
      },
      "source": [
        "X=df.drop(columns='Purchase',axis=1)\n",
        "Y=df['Purchase']/100000   # getting Y values also in the range 0 - 1\n",
        "X_1, X_val, Y_1, Y_val = train_test_split(X, Y, test_size=0.25,random_state=8)\n",
        "X_train, X_test, Y_train, Y_test = train_test_split(X_1, Y_1, test_size=0.3,random_state=8)\n"
      ],
      "execution_count": null,
      "outputs": []
    },
    {
      "cell_type": "code",
      "execution_count": null,
      "metadata": {},
      "outputs": [],
      "source": [
        "# %% Select scoring method\n",
        "scoring='neg_root_mean_squared_error' # direct RMSE this may not work on some machines $1\n",
        "scoring='neg_mean_squared_error'"
      ]
    },
    {
      "cell_type": "code",
      "metadata": {
        "id": "5eomeSPldeGD",
        "colab_type": "code",
        "colab": {
          "base_uri": "https://localhost:8080/",
          "height": 102
        },
        "outputId": "48ebbc52-daa9-452f-bf09-64bc081ebe97"
      },
      "source": [
        "models = []\n",
        "models.append(('LR', LinearRegression()))\n",
        "models.append(('LASSO', Lasso()))\n",
        "models.append(('EN', ElasticNet()))\n",
        "models.append(('KNN', KNeighborsRegressor()))\n",
        "models.append(('CART', DecisionTreeRegressor()))\n",
        "\n",
        "results = []\n",
        "names = []\n",
        "for name, model in models:\n",
        "  kfold = KFold(n_splits=5, shuffle=True, random_state=5)\n",
        "  cv_results = cross_val_score(model, X_train, Y_train, cv=kfold,scoring=scoring) \\\n",
        "  cv_results=np.sqrt(-cv_results) # $1 in case direct RMSE does not work use this \n",
        "  results.append(cv_results)\n",
        "  names.append(name)\n",
        "  msg = \"%s: %f (%f)\" % (name, cv_results.mean(), cv_results.std())\n",
        "  print(msg)"
      ],
      "execution_count": null,
      "outputs": []
    },
    {
      "cell_type": "code",
      "metadata": {
        "id": "zSbCXrnCde4G",
        "colab_type": "code",
        "colab": {}
      },
      "source": [
        "#%% Compare Algorithms\n",
        "\n",
        "\n",
        "fig = plt.figure()\n",
        "plt.figure(figsize=(10,7))\n",
        "fig.suptitle('Algorithm Comparison')\n",
        "ax = fig.add_subplot(111)\n",
        "plt.boxplot(results)\n",
        "ax.set_xticklabels(names)\n",
        "plt.show()"
      ],
      "execution_count": null,
      "outputs": []
    },
    {
      "cell_type": "code",
      "metadata": {
        "id": "lQ2O1RlPdfLp",
        "colab_type": "code",
        "colab": {}
      },
      "source": [
        "#%% KNN Algorithm tuning\n",
        "\n",
        "k_values = np.array([1,3,5,7,9,11,13,15,16,17,18,19,21])\n",
        "param_grid = dict(n_neighbors=k_values)\n",
        "\n",
        "model = KNeighborsRegressor()\n",
        "kfold = KFold(n_splits=10, shuffle=True, random_state=5)\n",
        "\n",
        "grid = GridSearchCV(estimator=model, param_grid=param_grid, scoring=scoring, cv=kfold, iid=True)  \n",
        "grid_result = grid.fit(X_train, Y_train)\n",
        "# grid_result=np.sqrt(-grid_result)\n",
        "\n",
        "print(\"Best: %f using %s\" % (grid_result.best_score_, grid_result.best_params_))\n",
        "\n",
        "means = grid_result.cv_results_['mean_test_score']\n",
        "stds = grid_result.cv_results_['std_test_score']\n",
        "params = grid_result.cv_results_['params']\n",
        "for mean, stdev, param in zip(means, stds, params):\n",
        "    print(\"%f (%f) with: %r\" % (mean, stdev, param))"
      ],
      "execution_count": null,
      "outputs": []
    },
    {
      "cell_type": "code",
      "execution_count": null,
      "metadata": {},
      "outputs": [],
      "source": [
        "ensembles = []\n",
        "ensembles.append(('AB', AdaBoostRegressor()))\n",
        "ensembles.append(('GBM', GradientBoostingRegressor()))\n",
        "ensembles.append(('RF', RandomForestRegressor()))\n",
        "ensembles.append(('ET', ExtraTreesRegressor()))\n",
        "results = []\n",
        "names = []\n",
        "for name, model in ensembles:\n",
        "    kfold = KFold(n_splits=10, shuffle=True, random_state=5)\n",
        "    cv_results = cross_val_score(model, X_train, Y_train,cv=kfold, scoring=scoring)\n",
        "    cv_results=np.sqrt(-cv_results)\n",
        "    results.append(cv_results)\n",
        "    names.append(name)\n",
        "    msg = \"%s: %f (%f)\" % (name, cv_results.mean(), cv_results.std())\n",
        "    print(msg)"
      ]
    },
    {
      "cell_type": "code",
      "execution_count": null,
      "metadata": {},
      "outputs": [],
      "source": [
        "#%% Compare Algorithms\n",
        "fig = plt.figure()\n",
        "plt.figure(figsize=(10,7))\n",
        "fig.suptitle('Scaled Ensemble Algorithm Comparison')\n",
        "ax = fig.add_subplot(111)\n",
        "plt.boxplot(results)\n",
        "ax.set_xticklabels(names)\n",
        "plt.show()"
      ]
    },
    {
      "cell_type": "code",
      "execution_count": null,
      "metadata": {},
      "outputs": [],
      "source": [
        "#%% Tune scaled GBM\n",
        "param_grid = dict(n_estimators=np.array([50,100,150,200,250,300,350,400,500,600,700,800]))\n",
        "                                            \n",
        "model = GradientBoostingRegressor(random_state=5)\n",
        "kfold = KFold(n_splits=10, shuffle=True, random_state=5)\n",
        "grid = GridSearchCV(estimator=model, param_grid=param_grid, scoring=scoring, cv=kfold, iid=True)\n",
        "grid_result = grid.fit(X_train, Y_train)\n",
        "grid_result=np.sqrt(-grid_result)\n",
        "print(\"Best: %f using %s\" % (grid_result.best_score_,grid_result.best_params_))\n",
        "\n",
        "means = grid_result.cv_results_['mean_test_score']\n",
        "stds = grid_result.cv_results_['std_test_score']\n",
        "params = grid_result.cv_results_['params']\n",
        "for mean, stdev, param in zip(means, stds, params):\n",
        "    print(\"%f (%f) with: %r\" % (mean, stdev, param))"
      ]
    },
    {
      "cell_type": "code",
      "execution_count": null,
      "metadata": {},
      "outputs": [],
      "source": []
    },
    {
      "cell_type": "code",
      "execution_count": null,
      "metadata": {},
      "outputs": [],
      "source": []
    },
    {
      "cell_type": "code",
      "execution_count": null,
      "metadata": {},
      "outputs": [],
      "source": []
    }
  ],
  "metadata": {
    "file_extension": ".py",
    "kernelspec": {
      "display_name": "Python 3",
      "language": "python",
      "name": "python3"
    },
    "language_info": {
      "codemirror_mode": {
        "name": "ipython",
        "version": 3
      },
      "file_extension": ".py",
      "mimetype": "text/x-python",
      "name": "python",
      "nbconvert_exporter": "python",
      "pygments_lexer": "ipython3",
      "version": "3.5.6-final"
    },
    "mimetype": "text/x-python",
    "name": "python",
    "npconvert_exporter": "python",
    "pygments_lexer": "ipython3",
    "version": 3,
    "colab": {
      "name": "BF.ipynb",
      "provenance": [],
      "collapsed_sections": []
    }
  },
  "nbformat": 4,
  "nbformat_minor": 0
}